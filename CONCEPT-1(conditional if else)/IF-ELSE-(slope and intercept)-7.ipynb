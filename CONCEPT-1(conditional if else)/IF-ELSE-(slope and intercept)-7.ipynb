{
 "cells": [
  {
   "cell_type": "code",
   "execution_count": 2,
   "metadata": {},
   "outputs": [
    {
     "name": "stdout",
     "output_type": "stream",
     "text": [
      "slope is not defined\n",
      "y intercept of the line is not defined because it is parallel to y axis\n"
     ]
    }
   ],
   "source": [
    "#7.Given two points (x1, y1) and (x2, y2), \n",
    "#find the slope and intercept of the line joining these two points \n",
    "#(the line may be perfectly horizontal or vertical).\n",
    "x1=int(input(\"enter a number\"))#take 1st number input from user\n",
    "y1=int(input(\"enter a number\"))#take 2nd number input from user\n",
    "x2=int(input(\"enter a number\"))#take 3rd number input from user\n",
    "y2=int(input(\"enter a number\"))#take 4th number input from user\n",
    "if (x2-x1)==0:\n",
    "    print(\"slope is not defined\")\n",
    "    print(\"y intercept of the line is not defined because it is parallel to y axis\")\n",
    "else:\n",
    "    slope=(y2-y1)/(x2-x1)\n",
    "    print(\"slope =\",slope)\n",
    "    print(\"y intercept of line is:\",y1-slope*x1) #y=mx+c,c=y-mx\n",
    "    #c is y-intercept,m is slope,x maybe(x1 or x2),y maybe(y1 or y2)"
   ]
  }
 ],
 "metadata": {
  "kernelspec": {
   "display_name": "Python 3",
   "language": "python",
   "name": "python3"
  },
  "language_info": {
   "codemirror_mode": {
    "name": "ipython",
    "version": 3
   },
   "file_extension": ".py",
   "mimetype": "text/x-python",
   "name": "python",
   "nbconvert_exporter": "python",
   "pygments_lexer": "ipython3",
   "version": "3.11.6"
  }
 },
 "nbformat": 4,
 "nbformat_minor": 2
}
