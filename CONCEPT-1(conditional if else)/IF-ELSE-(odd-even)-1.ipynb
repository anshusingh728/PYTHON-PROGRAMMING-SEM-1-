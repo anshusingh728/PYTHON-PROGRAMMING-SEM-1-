{
 "cells": [
  {
   "cell_type": "code",
   "execution_count": 4,
   "metadata": {},
   "outputs": [
    {
     "name": "stdout",
     "output_type": "stream",
     "text": [
      "a = 5\n",
      "number a is ODD\n"
     ]
    }
   ],
   "source": [
    "#1.Given an integer,check if it is even or odd\n",
    "a=int(input(\"enter an integer\"))# take a number input from user\n",
    "print(\"a =\",a)\n",
    "if a%2==0:# for even or odd number we will check is it divisible by 2 or not\n",
    "    print(\"number a is EVEN\")\n",
    "else:\n",
    "    print(\"number a is ODD\")\n"
   ]
  }
 ],
 "metadata": {
  "kernelspec": {
   "display_name": "Python 3",
   "language": "python",
   "name": "python3"
  },
  "language_info": {
   "codemirror_mode": {
    "name": "ipython",
    "version": 3
   },
   "file_extension": ".py",
   "mimetype": "text/x-python",
   "name": "python",
   "nbconvert_exporter": "python",
   "pygments_lexer": "ipython3",
   "version": "3.11.6"
  }
 },
 "nbformat": 4,
 "nbformat_minor": 2
}
