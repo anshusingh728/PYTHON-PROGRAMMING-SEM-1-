{
 "cells": [
  {
   "cell_type": "code",
   "execution_count": 2,
   "metadata": {},
   "outputs": [
    {
     "name": "stdout",
     "output_type": "stream",
     "text": [
      " X1 coordinate is : -4.0\n",
      "y1 coordinate is : 3.0\n",
      "point lie in 2nd quadrant\n"
     ]
    }
   ],
   "source": [
    "#6.Given a point (x1,y1), find the quadrant in which this point lies\n",
    "x1=float(input(\"enter the x coordinate\"))#take 1st number input from user\n",
    "print(\" X1 coordinate is :\",x1)\n",
    "y1=float(input(\"enter the y coordinate\"))#take 2nd number input from user\n",
    "print(\"y1 coordinate is :\",y1)\n",
    "if x1>0 and y1>0:\n",
    "    print(\"point lie in 1st quadrant\")\n",
    "elif x1<0 and y1>0:\n",
    "    print(\"point lie in 2nd quadrant\")\n",
    "elif x1>0 and y1<0:\n",
    "    print(\" point lie in 3rd quadrant\")\n",
    "elif x1>0 and y1<0:\n",
    "    print(\"point lie in 4th quadrant\")\n",
    "elif x1!=0 and y1==0:\n",
    "    print(\"point on the  x axis \")\n",
    "elif x1==0 and y1!=0:\n",
    "    print(\"point on the y axis\")\n",
    "else:\n",
    "    print(\"point in origin\")\n",
    "\n",
    "\n"
   ]
  }
 ],
 "metadata": {
  "kernelspec": {
   "display_name": "Python 3",
   "language": "python",
   "name": "python3"
  },
  "language_info": {
   "codemirror_mode": {
    "name": "ipython",
    "version": 3
   },
   "file_extension": ".py",
   "mimetype": "text/x-python",
   "name": "python",
   "nbconvert_exporter": "python",
   "pygments_lexer": "ipython3",
   "version": "3.11.6"
  }
 },
 "nbformat": 4,
 "nbformat_minor": 2
}
