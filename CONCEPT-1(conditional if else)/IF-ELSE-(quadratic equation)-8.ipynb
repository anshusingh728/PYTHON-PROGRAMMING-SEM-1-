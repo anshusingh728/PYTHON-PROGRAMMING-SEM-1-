{
 "cells": [
  {
   "cell_type": "code",
   "execution_count": 1,
   "metadata": {},
   "outputs": [
    {
     "name": "stdout",
     "output_type": "stream",
     "text": [
      "a = 5\n",
      "b = 8\n",
      "c = 0\n",
      "x1 = 0.0\n",
      "x2 = -40.0\n",
      "soluion are real and unequal : 0.0 -40.0\n"
     ]
    }
   ],
   "source": [
    "#8.Given a quadratic equation with coefficients a, b and c, \n",
    "#find the two solutions (may be real or complex). \n",
    "#You should not take the square root of a negative number in your code.\n",
    "a=int(input('enter the number'))#take input 1st number\n",
    "print(\"a =\",a)\n",
    "b=int(input('enter the number'))#take input 1st number\n",
    "print(\"b =\",b)\n",
    "c=int(input('enter the number'))#take input 1st number\n",
    "print(\"c =\",c)\n",
    "#a*x**2+b*x +c\n",
    "D=b**2-4*a*c # in this question a never will be zero\n",
    "#because if a will be zero then it will not be a quadratic equation\n",
    "if D>=0:\n",
    "    x1=(-b+(D)**0.5)/2*a #find solution x1\n",
    "    print(\"x1 =\",x1)\n",
    "    x2=(-b-(D)**0.5)/2*a #find solution x2\n",
    "    print(\"x2 =\",x2)\n",
    "    if x1==x2:\n",
    "        print(\" both Soltuions are real and equal :\",x1,x2)\n",
    "    else:\n",
    "        print(\"soluion are real and unequal :\",x1,x2)\n",
    "elif D<0:\n",
    "    x1=(-b+(D)**0.5)/2*a #find solution x1\n",
    "    x2=(-b-(D)**0.5)/2*a # find solution x2\n",
    "    print(\"both solutions are complex:\",x1,x2)"
   ]
  }
 ],
 "metadata": {
  "kernelspec": {
   "display_name": "Python 3",
   "language": "python",
   "name": "python3"
  },
  "language_info": {
   "codemirror_mode": {
    "name": "ipython",
    "version": 3
   },
   "file_extension": ".py",
   "mimetype": "text/x-python",
   "name": "python",
   "nbconvert_exporter": "python",
   "pygments_lexer": "ipython3",
   "version": "3.11.6"
  }
 },
 "nbformat": 4,
 "nbformat_minor": 2
}
