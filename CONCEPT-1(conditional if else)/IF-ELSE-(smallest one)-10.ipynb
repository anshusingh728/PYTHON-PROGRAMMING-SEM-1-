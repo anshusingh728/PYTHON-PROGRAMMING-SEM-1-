{
 "cells": [
  {
   "cell_type": "code",
   "execution_count": 1,
   "metadata": {},
   "outputs": [
    {
     "name": "stdout",
     "output_type": "stream",
     "text": [
      "a = 5\n",
      "b = 7\n",
      "c = 3\n",
      "c is smallest\n"
     ]
    }
   ],
   "source": [
    "\n",
    "#10.Given three integers, find the smallest one.\n",
    "a=int(input(\"enter the integer\"))#take 1st input from user\n",
    "print(\"a =\",a)\n",
    "b=int(input(\"enter the integer\"))#take 1st input from user\n",
    "print(\"b =\",b)\n",
    "c=int(input(\"enter the integer\"))#take 1st input from user\n",
    "print(\"c =\",c)\n",
    "if a<b and a<c:#if a is small than b and c then a will be smaller\n",
    "    print(\"a is smallest\")\n",
    "elif b<c:#if b if small than c then b will be smaller \n",
    "    print(\"b is smallest\")\n",
    "else:                      # if b is not smaller then c will be smaller\n",
    "    print(\"c is smallest\")"
   ]
  }
 ],
 "metadata": {
  "kernelspec": {
   "display_name": "Python 3",
   "language": "python",
   "name": "python3"
  },
  "language_info": {
   "codemirror_mode": {
    "name": "ipython",
    "version": 3
   },
   "file_extension": ".py",
   "mimetype": "text/x-python",
   "name": "python",
   "nbconvert_exporter": "python",
   "pygments_lexer": "ipython3",
   "version": "3.11.6"
  }
 },
 "nbformat": 4,
 "nbformat_minor": 2
}
