{
 "cells": [
  {
   "cell_type": "code",
   "execution_count": 2,
   "metadata": {},
   "outputs": [
    {
     "name": "stdout",
     "output_type": "stream",
     "text": [
      "a = 7\n",
      "b = 6\n",
      "a is larger\n"
     ]
    }
   ],
   "source": [
    "#2.Given two integers,find the larger one\n",
    "a=int(input(\"enter an integer\"))#take 1st number input from user\n",
    "print(\"a =\",a)\n",
    "b=int(input(\"enter an integer\"))#take 2nd number input from user\n",
    "print(\"b =\",b)\n",
    "if a>b:\n",
    "    print(\"a is larger\")\n",
    "else:\n",
    "    print(\"b is larger\")"
   ]
  },
  {
   "cell_type": "code",
   "execution_count": null,
   "metadata": {},
   "outputs": [],
   "source": []
  }
 ],
 "metadata": {
  "kernelspec": {
   "display_name": "Python 3",
   "language": "python",
   "name": "python3"
  },
  "language_info": {
   "codemirror_mode": {
    "name": "ipython",
    "version": 3
   },
   "file_extension": ".py",
   "mimetype": "text/x-python",
   "name": "python",
   "nbconvert_exporter": "python",
   "pygments_lexer": "ipython3",
   "version": "3.11.6"
  }
 },
 "nbformat": 4,
 "nbformat_minor": 2
}
