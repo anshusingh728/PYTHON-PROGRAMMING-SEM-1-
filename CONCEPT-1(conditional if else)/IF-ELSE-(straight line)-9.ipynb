{
 "cells": [
  {
   "cell_type": "code",
   "execution_count": 5,
   "metadata": {},
   "outputs": [
    {
     "name": "stdout",
     "output_type": "stream",
     "text": [
      "x1 = 2\n",
      "y1 = 4\n",
      "x2 = 6\n",
      "y2 = 8\n",
      "x3 = 6\n",
      "y3 = 9\n",
      "points do not lie in same line\n"
     ]
    }
   ],
   "source": [
    "#9.Given three points, find out whether they lie on the same straight line or not.\n",
    "x1=int(input(\"enter a number\"))#take 1st number input from user\n",
    "print(\"x1 =\",x1)\n",
    "y1=int(input(\"enter a number\"))#take 2nd number input from user\n",
    "print(\"y1 =\",y1)\n",
    "x2=int(input(\"enter a number\"))#take 3rd number input from user\n",
    "print(\"x2 =\",x2)\n",
    "y2=int(input(\"enter a number\"))#take 4th number input from user\n",
    "print(\"y2 =\",y2)\n",
    "x3=int(input(\"enter a number\"))#take 5th number input from user\n",
    "print(\"x3 =\",x3)\n",
    "y3=int(input(\"enter a number\"))#take 6th number input from user\n",
    "print(\"y3 =\",y3)\n",
    "m1=(y2-y1)/(x2-x1)# this is slope 1\n",
    "m2=(y3-y1)/(x3-x1)# this is slope 2\n",
    "if (x2-x1) and (x3-x1)==0:\n",
    "    print(\"slope is not defined and all three points lies in a same vertical line\")\n",
    "elif m1==m2:\n",
    "    print(\"points lie in same line\")\n",
    "else:\n",
    "    print(\"points do not lie in same line\")\n",
    "\n",
    "\n",
    "\n",
    "\n"
   ]
  }
 ],
 "metadata": {
  "kernelspec": {
   "display_name": "Python 3",
   "language": "python",
   "name": "python3"
  },
  "language_info": {
   "codemirror_mode": {
    "name": "ipython",
    "version": 3
   },
   "file_extension": ".py",
   "mimetype": "text/x-python",
   "name": "python",
   "nbconvert_exporter": "python",
   "pygments_lexer": "ipython3",
   "version": "3.11.6"
  }
 },
 "nbformat": 4,
 "nbformat_minor": 2
}
