{
 "cells": [
  {
   "cell_type": "code",
   "execution_count": 2,
   "metadata": {},
   "outputs": [
    {
     "name": "stdout",
     "output_type": "stream",
     "text": [
      "a = 4.0\n",
      "b = 0.0\n",
      "value of a/b is not defined\n"
     ]
    }
   ],
   "source": [
    "#5.Given two numbers, a and b, find the value of a/b (b may be zero).\n",
    "a=float(input(\"enter a number\"))#take 1st number input from user\n",
    "print(\"a =\",a)\n",
    "b=float(input(\"enter a number\"))#take 2st number input from user\n",
    "print(\"b =\",b)\n",
    "if b==0:\n",
    "    print(\"value of a/b is not defined\")\n",
    "else:\n",
    "    print(\"value of a/b is:\",a/b)"
   ]
  }
 ],
 "metadata": {
  "kernelspec": {
   "display_name": "Python 3",
   "language": "python",
   "name": "python3"
  },
  "language_info": {
   "codemirror_mode": {
    "name": "ipython",
    "version": 3
   },
   "file_extension": ".py",
   "mimetype": "text/x-python",
   "name": "python",
   "nbconvert_exporter": "python",
   "pygments_lexer": "ipython3",
   "version": "3.11.6"
  }
 },
 "nbformat": 4,
 "nbformat_minor": 2
}
