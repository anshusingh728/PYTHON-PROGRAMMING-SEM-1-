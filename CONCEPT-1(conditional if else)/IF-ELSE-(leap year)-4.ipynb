{
 "cells": [
  {
   "cell_type": "code",
   "execution_count": 1,
   "metadata": {},
   "outputs": [
    {
     "name": "stdout",
     "output_type": "stream",
     "text": [
      "2023\n",
      "This is not a leap year!\n"
     ]
    }
   ],
   "source": [
    "\"\"\"4.Given a year, check if it is a leap year or not. A leap year is divisible by 4, except for years that are divisible by 100. \n",
    "However, years that are divisible by 400 are also leap year\"\"\"\n",
    "Year = int(input(\"Enter the Year: \"))#take year as a input from user\n",
    "print(Year)\n",
    "if (Year % 4 == 0 and Year % 100 != 0) or (Year % 400 == 0):\n",
    "    print(\"This is a leap year!\")\n",
    "else:\n",
    "    print(\"This is not a leap year!\")"
   ]
  }
 ],
 "metadata": {
  "kernelspec": {
   "display_name": "Python 3",
   "language": "python",
   "name": "python3"
  },
  "language_info": {
   "codemirror_mode": {
    "name": "ipython",
    "version": 3
   },
   "file_extension": ".py",
   "mimetype": "text/x-python",
   "name": "python",
   "nbconvert_exporter": "python",
   "pygments_lexer": "ipython3",
   "version": "3.11.6"
  }
 },
 "nbformat": 4,
 "nbformat_minor": 2
}
