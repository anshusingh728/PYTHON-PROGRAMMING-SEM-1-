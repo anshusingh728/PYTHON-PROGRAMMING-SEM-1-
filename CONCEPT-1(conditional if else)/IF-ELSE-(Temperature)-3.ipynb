{
 "cells": [
  {
   "cell_type": "code",
   "execution_count": 3,
   "metadata": {},
   "outputs": [
    {
     "name": "stdout",
     "output_type": "stream",
     "text": [
      "T = 30.0\n",
      "F = 86.0\n",
      "The temperature is pleasant\n"
     ]
    }
   ],
   "source": [
    "\"\"\"3.Given a temperature in Celsius, convert it to Fahrenheit using the formula F = (C* 1.8) + 32. \n",
    "If the temperature is above 90°F, print \"It's hot outside!\" otherwise, print \"The temperature is pleasant\"\"\"\n",
    "T=float(input(\"temp in celsius\"))#take a number input from user\n",
    "print(\"T =\",T)\n",
    "F=(T*1.8)+32 #in this line we are converting temperature (celsius to Fahrenheit)\n",
    "print(\"F =\",F)\n",
    "if F>90:\n",
    "    print(\"It's hot outside!\")\n",
    "else:\n",
    "    print(\"The temperature is pleasant\")\n"
   ]
  }
 ],
 "metadata": {
  "kernelspec": {
   "display_name": "Python 3",
   "language": "python",
   "name": "python3"
  },
  "language_info": {
   "codemirror_mode": {
    "name": "ipython",
    "version": 3
   },
   "file_extension": ".py",
   "mimetype": "text/x-python",
   "name": "python",
   "nbconvert_exporter": "python",
   "pygments_lexer": "ipython3",
   "version": "3.11.6"
  }
 },
 "nbformat": 4,
 "nbformat_minor": 2
}
