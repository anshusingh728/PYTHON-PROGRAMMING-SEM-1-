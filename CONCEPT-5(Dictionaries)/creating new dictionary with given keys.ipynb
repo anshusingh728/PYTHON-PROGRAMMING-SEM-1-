{
 "cells": [
  {
   "cell_type": "code",
   "execution_count": 1,
   "metadata": {},
   "outputs": [
    {
     "name": "stdout",
     "output_type": "stream",
     "text": [
      "{'name': 'Kelly', 'salary': 8000}\n"
     ]
    }
   ],
   "source": [
    "#Create a new dictionary so that it only has the keys mentioned in another list\n",
    "sample_dict = { \"name\": \"Kelly\", \"age\": 25, \"salary\": 8000, \"city\": \"New york\"}\n",
    "# Keys to extract\n",
    "keys = [\"name\", \"salary\"] #name of keys that i want to to extract from sample_dict\n",
    "dict_new={} # create an empty dictionary\n",
    "for key,value in sample_dict.items(): #it will itrate over key-value pair in sample_dict\n",
    "    if key in keys:#check if current key is present in the keys list\n",
    "        dict_new[key]=value #adds the key-value pair to the dict_new\n",
    "print(dict_new)\n"
   ]
  }
 ],
 "metadata": {
  "kernelspec": {
   "display_name": "Python 3",
   "language": "python",
   "name": "python3"
  },
  "language_info": {
   "codemirror_mode": {
    "name": "ipython",
    "version": 3
   },
   "file_extension": ".py",
   "mimetype": "text/x-python",
   "name": "python",
   "nbconvert_exporter": "python",
   "pygments_lexer": "ipython3",
   "version": "3.11.6"
  }
 },
 "nbformat": 4,
 "nbformat_minor": 2
}
