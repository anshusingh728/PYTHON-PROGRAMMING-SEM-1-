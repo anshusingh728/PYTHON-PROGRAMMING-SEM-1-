{
 "cells": [
  {
   "cell_type": "code",
   "execution_count": 3,
   "metadata": {},
   "outputs": [
    {
     "name": "stdout",
     "output_type": "stream",
     "text": [
      "** Anshu **\n",
      "math : 78\n",
      "physics : 86\n",
      "chemistry : 65\n",
      "** umesh **\n",
      "math : 88\n",
      "physics : 89\n",
      "chemistry : 95\n",
      "** jyoti **\n",
      "math : 98\n",
      "physics : 80\n",
      "chemistry : 55\n",
      "** kajol **\n",
      "math : 58\n",
      "physics : 84\n",
      "chemistry : 75\n",
      "** pallavi **\n",
      "math : 70\n",
      "physics : 83\n",
      "chemistry : 60\n"
     ]
    }
   ],
   "source": [
    "\"\"\"Create a dictionary to store the total marks of 5 students in the class in 3 subjects\n",
    " (Course1, Course2, Course3). The keys must be the student names, \n",
    " and the values must be the list of marks. Create another list which has \n",
    " the course names in the same order as the marks are stored in the dictionary values. \n",
    " Now write a nested for loop to print the marks for each student exam wise.\n",
    "Student1\n",
    "Course1 marks : 82\n",
    "Course2 marks : 84\n",
    "Course3 marks : 72\n",
    "Student2\n",
    "Course1 marks : 87\n",
    "Course2 marks : 83\n",
    "Course3 marks : 78\"\"\"\n",
    "dict_marks={}#create an empty dictionary\n",
    "dict_marks[\"Anshu\"]=[78,86,65]\n",
    "dict_marks[\"umesh\"]=[88,89,95]\n",
    "dict_marks[\"jyoti\"]=[98,80,55] #creating a dictionary of five student with marks of three subject\n",
    "dict_marks[\"kajol\"]=[58,84,75]\n",
    "dict_marks[\"pallavi\"]=[70,83,60]\n",
    "course_name=['math','physics','chemistry'] \n",
    "len_course_name=len(course_name) \n",
    "for keys,values in dict_marks.items(): #itrate through the items (key-value pairs) in dict_mark\n",
    "    print(\"**\",keys,\"**\")\n",
    "    for i in range(len_course_name): #initiates a loop over the range of len_course_name which is 3 in this case\n",
    "        print(course_name[i],\":\",values[i]) "
   ]
  }
 ],
 "metadata": {
  "kernelspec": {
   "display_name": "Python 3",
   "language": "python",
   "name": "python3"
  },
  "language_info": {
   "codemirror_mode": {
    "name": "ipython",
    "version": 3
   },
   "file_extension": ".py",
   "mimetype": "text/x-python",
   "name": "python",
   "nbconvert_exporter": "python",
   "pygments_lexer": "ipython3",
   "version": "3.11.6"
  }
 },
 "nbformat": 4,
 "nbformat_minor": 2
}
