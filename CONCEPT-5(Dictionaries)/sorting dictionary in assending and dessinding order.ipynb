{
 "cells": [
  {
   "cell_type": "code",
   "execution_count": 16,
   "metadata": {},
   "outputs": [
    {
     "name": "stdout",
     "output_type": "stream",
     "text": [
      "dict_mark in assending order = {'English': 63, 'ITC': 67, 'chemistry': 85, 'maths': 88, 'Physics': 98}\n",
      "dict_mark in dessinding order = {'Physics': 98, 'maths': 88, 'chemistry': 85, 'ITC': 67, 'English': 63}\n"
     ]
    }
   ],
   "source": [
    "#Create a dictionary of your marks in various subjects and then sort it by its values first in descending order,\n",
    "#and then in or ascending order. Do not use any inbuilt sorting functions.\n",
    "#SORTING IN ASSENDING ORDER:\n",
    "dict_mark={\"maths\":88,\"ITC\":67,\"Physics\":98,\"chemistry\":85,\"English\":63 } #initialize a dictionary\n",
    "dict_new={} #create an empty dictionary to store sorted dictionary\n",
    "list_values=[] #create an empty list to append values(marks)from dict_mark\n",
    "for  value in dict_mark.values(): #this iterate over values(marks)\n",
    "    list_values.append(value)   #it will append values(marks)to make a list of marks\n",
    "for i in range(len(list_values)): #it will iterate from first element to the last element of the list\n",
    "    for key,value in dict_mark.items(): #it will iterate over key,value pair in dict_mark\n",
    "            if value==min(list_values): #it will check if current value is equal to the minimum value in list_values\n",
    "                dict_new[key]=value     #if (if condition is true) then it will add key-value pair in dict_new\n",
    "                list_values.remove(min(list_values)) #it will remove min value from list_values so that next iterate\n",
    "                                                    #will find next minimum value\n",
    "                break # this line will breaks out of the inner loop\n",
    "print(\"dict_mark in assending order =\",dict_new)\n",
    "\n",
    "#SORTING IN DESSENDING ORDER\n",
    "dict_mark={\"maths\":88,\"ITC\":67,\"Physics\":98,\"chemistry\":85,\"English\":63 } #initialize a dictionary\n",
    "dict_new={} #create an empty dictionary to store sorted dictionary\n",
    "list_values=[] #create an empty list to append values(marks)from dict_mark\n",
    "for  value in dict_mark.values(): #this iterate over values(marks)\n",
    "    list_values.append(value)   #it will append values(marks)to make a list of marks\n",
    "for i in range(len(list_values)): #it will iterate from first element to the last element of the list\n",
    "    for key,value in dict_mark.items(): #it will iterate over key,value pair in dict_mark\n",
    "            if value==max(list_values): #it will check if current value is equal to the minimum value in list_values\n",
    "                dict_new[key]=value     #if (if condition is true) then it will add key-value pair in dict_new\n",
    "                list_values.remove(max(list_values)) #it will remove min value from list_values so that next iterate\n",
    "                                                    #will find next minimum value\n",
    "                break # this line will breaks out of the inner loop\n",
    "print(\"dict_mark in dessinding order =\",dict_new)\n",
    "\n"
   ]
  }
 ],
 "metadata": {
  "kernelspec": {
   "display_name": "Python 3",
   "language": "python",
   "name": "python3"
  },
  "language_info": {
   "codemirror_mode": {
    "name": "ipython",
    "version": 3
   },
   "file_extension": ".py",
   "mimetype": "text/x-python",
   "name": "python",
   "nbconvert_exporter": "python",
   "pygments_lexer": "ipython3",
   "version": "3.11.6"
  }
 },
 "nbformat": 4,
 "nbformat_minor": 2
}
