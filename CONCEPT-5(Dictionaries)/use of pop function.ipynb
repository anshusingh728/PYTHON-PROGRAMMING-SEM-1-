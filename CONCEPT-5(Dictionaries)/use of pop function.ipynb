{
 "cells": [
  {
   "cell_type": "code",
   "execution_count": 7,
   "metadata": {},
   "outputs": [
    {
     "name": "stdout",
     "output_type": "stream",
     "text": [
      "{'name': 'Kelly', 'age': 25, 'salary': 8000}\n",
      "{'age': 25, 'salary': 8000, 'anshu': 'Kelly'}\n"
     ]
    }
   ],
   "source": [
    "#Remove a key from a dictionary:\n",
    "#dict_name.pop(key_name)\n",
    "#What does this function return?\n",
    "#Use pop to rename a key.\n",
    "sample_dict = { \"name\": \"Kelly\", \"age\": 25, \"salary\": 8000, \"city\": \"New york\"}\n",
    "sample_dict.pop(\"city\")#pop function will remove  key(city) and value(New york)\n",
    "print(sample_dict)\n",
    "\n",
    "sample_dict[\"anshu\"]=sample_dict.pop(\"name\")#it will rename the key name to anshu\n",
    "print(sample_dict)"
   ]
  }
 ],
 "metadata": {
  "kernelspec": {
   "display_name": "Python 3",
   "language": "python",
   "name": "python3"
  },
  "language_info": {
   "codemirror_mode": {
    "name": "ipython",
    "version": 3
   },
   "file_extension": ".py",
   "mimetype": "text/x-python",
   "name": "python",
   "nbconvert_exporter": "python",
   "pygments_lexer": "ipython3",
   "version": "3.11.6"
  }
 },
 "nbformat": 4,
 "nbformat_minor": 2
}
