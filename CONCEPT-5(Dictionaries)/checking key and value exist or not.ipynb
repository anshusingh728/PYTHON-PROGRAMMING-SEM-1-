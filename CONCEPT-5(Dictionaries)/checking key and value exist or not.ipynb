{
 "cells": [
  {
   "cell_type": "code",
   "execution_count": 33,
   "metadata": {},
   "outputs": [
    {
     "name": "stdout",
     "output_type": "stream",
     "text": [
      "key_needed is Not present\n",
      "value_needed is present\n"
     ]
    }
   ],
   "source": [
    "#Check if a key exists in a dictionary:\n",
    "sample_dict = {'a': 100, 'b': 200, 'c': 300}\n",
    "key_needed = 'd'\n",
    "#Check if a value exists in a dictionary:\n",
    "sample_dict = {'a': 100, 'b': 200,'c': 300}\n",
    "value_needed = 200\n",
    "if key_needed in sample_dict.keys():#checking key present in keys of given dictionary\n",
    "    print(\"key_needed is present\")\n",
    "else:\n",
    "    print(\"key_needed is Not present\")\n",
    "if value_needed in sample_dict.values():#checking value present in values of given dictionary\n",
    "    print(\"value_needed is present\")   \n",
    "else:\n",
    "    print(\"value_needed is Not present\")"
   ]
  }
 ],
 "metadata": {
  "kernelspec": {
   "display_name": "Python 3",
   "language": "python",
   "name": "python3"
  },
  "language_info": {
   "codemirror_mode": {
    "name": "ipython",
    "version": 3
   },
   "file_extension": ".py",
   "mimetype": "text/x-python",
   "name": "python",
   "nbconvert_exporter": "python",
   "pygments_lexer": "ipython3",
   "version": "3.11.6"
  }
 },
 "nbformat": 4,
 "nbformat_minor": 2
}
