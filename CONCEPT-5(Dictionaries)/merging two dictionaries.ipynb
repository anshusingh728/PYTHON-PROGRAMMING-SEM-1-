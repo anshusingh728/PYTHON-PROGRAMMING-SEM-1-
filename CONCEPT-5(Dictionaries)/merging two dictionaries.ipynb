{
 "cells": [
  {
   "cell_type": "code",
   "execution_count": 1,
   "metadata": {},
   "outputs": [
    {
     "name": "stdout",
     "output_type": "stream",
     "text": [
      "{'Ten': 10, 'Twenty': 20, 'Thirty': 30, 'Fourty': 40, 'Fifty': 50}\n"
     ]
    }
   ],
   "source": [
    "#Merge these two dictionaries into one using for loop\n",
    "dict1 = {'Ten': 10, 'Twenty': 20, 'Thirty': 30}#dictionary one is given\n",
    "dict2 = {'Thirty': 30, 'Fourty': 40, 'Fifty': 50}#dictionary 2 is given\n",
    "dict3={}#create an empty dictionary\n",
    "for keys,values in dict1.items():#running a loop to itrate keys and values from dict1\n",
    "    dict3[keys]=values\n",
    "for keys,values in dict2.items():#running a loop to itrate keys and values from dict2\n",
    "    if keys not in dict1:\n",
    "        dict3[keys]=values\n",
    "print(dict3)"
   ]
  }
 ],
 "metadata": {
  "kernelspec": {
   "display_name": "Python 3",
   "language": "python",
   "name": "python3"
  },
  "language_info": {
   "codemirror_mode": {
    "name": "ipython",
    "version": 3
   },
   "file_extension": ".py",
   "mimetype": "text/x-python",
   "name": "python",
   "nbconvert_exporter": "python",
   "pygments_lexer": "ipython3",
   "version": "3.11.6"
  }
 },
 "nbformat": 4,
 "nbformat_minor": 2
}
