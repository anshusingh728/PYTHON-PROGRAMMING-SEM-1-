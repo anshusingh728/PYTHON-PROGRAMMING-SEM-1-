{
 "cells": [
  {
   "cell_type": "code",
   "execution_count": 16,
   "metadata": {},
   "outputs": [
    {
     "name": "stdout",
     "output_type": "stream",
     "text": [
      "{'Ten': 10, 'Twenty': 20, 'Thirty': 30}\n"
     ]
    }
   ],
   "source": [
    "#1.Convert these two lists into a dictionary. Take the keys from the first list, \n",
    "#and values from the second one.\n",
    "keys = ['Ten','Twenty', 'Thirty']#keys are given\n",
    "values = [10, 20, 30]#values are given\n",
    "dict_new={}#create an empty dictionary\n",
    "len_key=len(keys)\n",
    "len_values=len(values)\n",
    "len_keys=len_values #length of keys and values are equal\n",
    "for i in range(len_key):#will will run a loop to the length of keys or values (any one)\n",
    "    dict_new[keys[i]]=values[i]\n",
    "print(dict_new)"
   ]
  }
 ],
 "metadata": {
  "kernelspec": {
   "display_name": "Python 3",
   "language": "python",
   "name": "python3"
  },
  "language_info": {
   "codemirror_mode": {
    "name": "ipython",
    "version": 3
   },
   "file_extension": ".py",
   "mimetype": "text/x-python",
   "name": "python",
   "nbconvert_exporter": "python",
   "pygments_lexer": "ipython3",
   "version": "3.11.6"
  }
 },
 "nbformat": 4,
 "nbformat_minor": 2
}
