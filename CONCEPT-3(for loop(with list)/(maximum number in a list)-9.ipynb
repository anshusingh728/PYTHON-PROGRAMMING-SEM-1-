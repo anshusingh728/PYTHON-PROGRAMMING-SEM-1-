{
 "cells": [
  {
   "cell_type": "code",
   "execution_count": 1,
   "metadata": {},
   "outputs": [
    {
     "name": "stdout",
     "output_type": "stream",
     "text": [
      "10\n"
     ]
    }
   ],
   "source": [
    "#9.Given a list of numbers, find out the maximum number.\n",
    "list1=[1,2,3,4,10,6,7,8,9]# first we have to create a list\n",
    "max=list1[0]# let maxinum number to any number from tha list (as i let 1st number of the list)\n",
    "for i in list1:\n",
    "    if i>max:# check number one by one in the list that it is maximum than max number or not \n",
    "        max=i # if number is maximum than max number then it will be maximum\n",
    "print(max)"
   ]
  }
 ],
 "metadata": {
  "kernelspec": {
   "display_name": "Python 3",
   "language": "python",
   "name": "python3"
  },
  "language_info": {
   "codemirror_mode": {
    "name": "ipython",
    "version": 3
   },
   "file_extension": ".py",
   "mimetype": "text/x-python",
   "name": "python",
   "nbconvert_exporter": "python",
   "pygments_lexer": "ipython3",
   "version": "3.11.6"
  }
 },
 "nbformat": 4,
 "nbformat_minor": 2
}
