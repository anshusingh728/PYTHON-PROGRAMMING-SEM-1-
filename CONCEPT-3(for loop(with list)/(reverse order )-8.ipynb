{
 "cells": [
  {
   "cell_type": "code",
   "execution_count": 23,
   "metadata": {},
   "outputs": [
    {
     "name": "stdout",
     "output_type": "stream",
     "text": [
      "[8, 7, 6, 5, 4, 3, 2, 1]\n"
     ]
    }
   ],
   "source": [
    "#8.Given a list of numbers, create another list in reverse order.\n",
    "# METHOD-1\n",
    "list1=[1,2,3,4,5,6,7,8]#first create a list\n",
    "list_rev=[ ]#create an empty list\n",
    "for i in list1:\n",
    "      list_rev.insert(0,i)#this line will take number from list1 andwi ll store it everytime in 1st position of list_rev\n",
    "print(list_rev)"
   ]
  },
  {
   "cell_type": "code",
   "execution_count": 22,
   "metadata": {},
   "outputs": [
    {
     "data": {
      "text/plain": [
       "[5, 4, 3, 2, 1]"
      ]
     },
     "execution_count": 22,
     "metadata": {},
     "output_type": "execute_result"
    }
   ],
   "source": [
    "# METHOD-2\n",
    "def fun_inp(lst):\n",
    "    list_rev=lst[::-1]\n",
    "    return list_rev\n",
    "\n",
    "lst=[1,2,3,4,5]\n",
    "fun_inp(lst)"
   ]
  }
 ],
 "metadata": {
  "kernelspec": {
   "display_name": "Python 3",
   "language": "python",
   "name": "python3"
  },
  "language_info": {
   "codemirror_mode": {
    "name": "ipython",
    "version": 3
   },
   "file_extension": ".py",
   "mimetype": "text/x-python",
   "name": "python",
   "nbconvert_exporter": "python",
   "pygments_lexer": "ipython3",
   "version": "3.11.6"
  }
 },
 "nbformat": 4,
 "nbformat_minor": 2
}
