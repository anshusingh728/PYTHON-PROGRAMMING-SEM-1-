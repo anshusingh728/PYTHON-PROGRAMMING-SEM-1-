{
 "cells": [
  {
   "cell_type": "code",
   "execution_count": null,
   "metadata": {},
   "outputs": [],
   "source": [
    "#Given a list of numbers, find out the index of another given number.\n",
    "list1=[1,2,3,4,5,6,7,8,9]#first create a list\n",
    "a=int(input(\"enter the number\"))#taking any input from user\n",
    "if a in list1:\n",
    "    x=list1.index(a)\n",
    "    print(x)\n",
    "else:\n",
    "    print(\"number is not in list\")"
   ]
  }
 ],
 "metadata": {
  "kernelspec": {
   "display_name": "Python 3",
   "language": "python",
   "name": "python3"
  },
  "language_info": {
   "name": "python",
   "version": "3.11.6"
  }
 },
 "nbformat": 4,
 "nbformat_minor": 2
}
