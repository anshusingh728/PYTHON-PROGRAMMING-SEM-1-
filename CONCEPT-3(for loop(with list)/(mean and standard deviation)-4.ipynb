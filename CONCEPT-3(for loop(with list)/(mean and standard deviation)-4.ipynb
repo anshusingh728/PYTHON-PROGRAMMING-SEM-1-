{
 "cells": [
  {
   "cell_type": "code",
   "execution_count": 6,
   "metadata": {},
   "outputs": [
    {
     "name": "stdout",
     "output_type": "stream",
     "text": [
      "sum = 15\n",
      "length = 5\n",
      "mean= 3.0\n",
      "stand_devi = 1.4142135623730951\n"
     ]
    }
   ],
   "source": [
    "#4.Given a list of numbers, find out the mean and standard deviation.\n",
    "list1=[1,2,3,4,5]#first we have to create a list\n",
    "a=sum(list1)\n",
    "print(\"sum =\",a)\n",
    "b=len(list1)\n",
    "print(\"length =\",b)\n",
    "mean=a/b #mean=average/total number(first we have to calculate sum and length of the list to calculate mean)\n",
    "print(\"mean=\",mean)\n",
    "c=0\n",
    "for i in list1:\n",
    "    c=c+(mean-i)**2\n",
    "    #print(\"(mean-i)**2:\",c)\n",
    "stand_devi=(c/b)**0.5   \n",
    "print(\"stand_devi =\",stand_devi)\n"
   ]
  }
 ],
 "metadata": {
  "kernelspec": {
   "display_name": "Python 3",
   "language": "python",
   "name": "python3"
  },
  "language_info": {
   "codemirror_mode": {
    "name": "ipython",
    "version": 3
   },
   "file_extension": ".py",
   "mimetype": "text/x-python",
   "name": "python",
   "nbconvert_exporter": "python",
   "pygments_lexer": "ipython3",
   "version": "3.11.6"
  }
 },
 "nbformat": 4,
 "nbformat_minor": 2
}
