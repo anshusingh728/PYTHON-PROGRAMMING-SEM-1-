{
 "cells": [
  {
   "cell_type": "code",
   "execution_count": 2,
   "metadata": {},
   "outputs": [
    {
     "name": "stdout",
     "output_type": "stream",
     "text": [
      "a = 10\n",
      "30\n"
     ]
    }
   ],
   "source": [
    "#Given a positive integer, find out the sum of all even numbers from 2 up to this number.\n",
    "a=int(input(\"enter the number\"))#take a number input from user\n",
    "print(\"a =\",a)\n",
    "sum_even=0\n",
    "for i in range(2,a+1,2):\n",
    "    sum_even=sum_even+i\n",
    "print(sum_even)"
   ]
  }
 ],
 "metadata": {
  "kernelspec": {
   "display_name": "Python 3",
   "language": "python",
   "name": "python3"
  },
  "language_info": {
   "codemirror_mode": {
    "name": "ipython",
    "version": 3
   },
   "file_extension": ".py",
   "mimetype": "text/x-python",
   "name": "python",
   "nbconvert_exporter": "python",
   "pygments_lexer": "ipython3",
   "version": "3.11.6"
  }
 },
 "nbformat": 4,
 "nbformat_minor": 2
}
