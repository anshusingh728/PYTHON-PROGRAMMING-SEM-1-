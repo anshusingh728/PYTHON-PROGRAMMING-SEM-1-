{
 "cells": [
  {
   "cell_type": "code",
   "execution_count": 2,
   "metadata": {},
   "outputs": [
    {
     "name": "stdout",
     "output_type": "stream",
     "text": [
      "a = 10\n",
      "25\n"
     ]
    }
   ],
   "source": [
    "#5.Given a positive integer, find out the sum of all odd numbers from 1 up to this number.\n",
    "a=int(input(\"enter the number\"))#take a number input from user\n",
    "print(\"a =\",a)\n",
    "sum_odd=0\n",
    "for i in range(1,a+1,2):\n",
    "    sum_odd=sum_odd+i\n",
    "print(sum_odd)"
   ]
  }
 ],
 "metadata": {
  "kernelspec": {
   "display_name": "Python 3",
   "language": "python",
   "name": "python3"
  },
  "language_info": {
   "codemirror_mode": {
    "name": "ipython",
    "version": 3
   },
   "file_extension": ".py",
   "mimetype": "text/x-python",
   "name": "python",
   "nbconvert_exporter": "python",
   "pygments_lexer": "ipython3",
   "version": "3.11.6"
  }
 },
 "nbformat": 4,
 "nbformat_minor": 2
}
