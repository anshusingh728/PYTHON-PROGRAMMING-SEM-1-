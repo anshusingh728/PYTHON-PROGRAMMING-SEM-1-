{
 "cells": [
  {
   "cell_type": "code",
   "execution_count": 6,
   "metadata": {},
   "outputs": [
    {
     "name": "stdout",
     "output_type": "stream",
     "text": [
      "a = 4\n",
      "a is prime\n"
     ]
    }
   ],
   "source": [
    "#Given a positive integer, find out if it’s prime or not.\n",
    "a=int(input(\"enter the number\"))#take a number input from user\n",
    "print(\"a =\",a)\n",
    "upper_limit=int(a**0.5+1)\n",
    "b=0\n",
    "for i in range(1,upper_limit):\n",
    "    if a%i==0:\n",
    "        b=b+1\n",
    "if b==2:\n",
    "    print(\"a is prime\")\n",
    "else:\n",
    "    print(\"a is not prime\")\n"
   ]
  }
 ],
 "metadata": {
  "kernelspec": {
   "display_name": "Python 3",
   "language": "python",
   "name": "python3"
  },
  "language_info": {
   "codemirror_mode": {
    "name": "ipython",
    "version": 3
   },
   "file_extension": ".py",
   "mimetype": "text/x-python",
   "name": "python",
   "nbconvert_exporter": "python",
   "pygments_lexer": "ipython3",
   "version": "3.11.6"
  }
 },
 "nbformat": 4,
 "nbformat_minor": 2
}
