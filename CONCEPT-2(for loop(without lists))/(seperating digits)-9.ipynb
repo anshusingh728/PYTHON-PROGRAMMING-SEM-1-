{
 "cells": [
  {
   "cell_type": "code",
   "execution_count": 1,
   "metadata": {},
   "outputs": [
    {
     "name": "stdout",
     "output_type": "stream",
     "text": [
      "2344\n",
      "234\n",
      "23\n",
      "2\n",
      "0\n",
      "[2, 3, 4, 4, 5]\n"
     ]
    }
   ],
   "source": [
    "#Given a positive integer, print each of its digits separately without converting\n",
    "#the number into a string.\n",
    "a=int(input(\"Enter a positive integer:\"))#take number input from user\n",
    "list1=[]\n",
    "for i in range(a):\n",
    "    if a>0:\n",
    "        x=a%10\n",
    "        a=a//10\n",
    "        print(a)\n",
    "        list1.append(x)\n",
    "list1.reverse()\n",
    "print(list1)"
   ]
  }
 ],
 "metadata": {
  "kernelspec": {
   "display_name": "Python 3",
   "language": "python",
   "name": "python3"
  },
  "language_info": {
   "codemirror_mode": {
    "name": "ipython",
    "version": 3
   },
   "file_extension": ".py",
   "mimetype": "text/x-python",
   "name": "python",
   "nbconvert_exporter": "python",
   "pygments_lexer": "ipython3",
   "version": "3.11.6"
  }
 },
 "nbformat": 4,
 "nbformat_minor": 2
}
