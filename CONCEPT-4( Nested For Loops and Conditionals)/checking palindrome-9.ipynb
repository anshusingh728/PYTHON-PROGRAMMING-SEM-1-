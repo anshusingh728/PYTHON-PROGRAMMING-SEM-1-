{
 "cells": [
  {
   "cell_type": "code",
   "execution_count": 1,
   "metadata": {},
   "outputs": [
    {
     "name": "stdout",
     "output_type": "stream",
     "text": [
      "str_inp is = nitin\n",
      "it is a palindrome\n"
     ]
    }
   ],
   "source": [
    "#9.Given a string input, find out if it’s a palindrome.\n",
    "str_inp=(input(\"enter a word\"))#take a word input\n",
    "print(\"str_inp is =\",str_inp)\n",
    "str_new=str_inp.upper()#make letters of word (upper case)capital\n",
    "if str_new==str_new[::-1]: #if letters from starting is equal to from ending \n",
    "    print(\"it is a palindrome\")\n",
    "else:\n",
    "    print(\"it is not a palindrome\")\n"
   ]
  },
  {
   "cell_type": "code",
   "execution_count": 3,
   "metadata": {},
   "outputs": [
    {
     "name": "stdout",
     "output_type": "stream",
     "text": [
      "word = nitin\n",
      " word is a Palindrome\n"
     ]
    }
   ],
   "source": [
    "user_input = input(\"Enter a word: \")    #take a word input\n",
    "print(\"word =\",user_input)\n",
    "clean_input = user_input.upper()    #convert the word into uppercase\n",
    "for i in range(len(clean_input)//2):    #running a for loop in range half length of the word\n",
    "    if clean_input[i]!= clean_input[-1 - i]: #if letters from starting is equal to from ending\n",
    "        print(\"word is Not a palindrome\")\n",
    "        break  #if we want to breake the loop satisfying a condition we use break\n",
    "else:\n",
    "    print(\" word is a Palindrome\")"
   ]
  }
 ],
 "metadata": {
  "kernelspec": {
   "display_name": "Python 3",
   "language": "python",
   "name": "python3"
  },
  "language_info": {
   "codemirror_mode": {
    "name": "ipython",
    "version": 3
   },
   "file_extension": ".py",
   "mimetype": "text/x-python",
   "name": "python",
   "nbconvert_exporter": "python",
   "pygments_lexer": "ipython3",
   "version": "3.12.0"
  }
 },
 "nbformat": 4,
 "nbformat_minor": 2
}
