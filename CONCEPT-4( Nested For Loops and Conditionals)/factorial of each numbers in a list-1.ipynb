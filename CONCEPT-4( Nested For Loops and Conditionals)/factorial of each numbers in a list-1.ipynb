{
 "cells": [
  {
   "cell_type": "code",
   "execution_count": 1,
   "metadata": {},
   "outputs": [
    {
     "name": "stdout",
     "output_type": "stream",
     "text": [
      "2\n",
      "6\n",
      "24\n",
      "120\n",
      "720\n"
     ]
    }
   ],
   "source": [
    "#1.Given a list of positive integers, find the factorial of all the numbers.\n",
    "list_int=[2,3,4,5,6]# first take a list of positive integer\n",
    "for i in list_int:  #this line to take numbers one by one from list\n",
    "    fact_int=1       #initialize a variable to store factorials \n",
    "    for j in range(1,i+1):#it will give number from 1 to that number\n",
    "        fact_int=fact_int*j\n",
    "    print(fact_int)"
   ]
  }
 ],
 "metadata": {
  "kernelspec": {
   "display_name": "Python 3",
   "language": "python",
   "name": "python3"
  },
  "language_info": {
   "codemirror_mode": {
    "name": "ipython",
    "version": 3
   },
   "file_extension": ".py",
   "mimetype": "text/x-python",
   "name": "python",
   "nbconvert_exporter": "python",
   "pygments_lexer": "ipython3",
   "version": "3.12.0"
  }
 },
 "nbformat": 4,
 "nbformat_minor": 2
}
