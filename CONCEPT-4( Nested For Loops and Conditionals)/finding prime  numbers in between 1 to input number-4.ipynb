{
 "cells": [
  {
   "cell_type": "code",
   "execution_count": 1,
   "metadata": {},
   "outputs": [
    {
     "name": "stdout",
     "output_type": "stream",
     "text": [
      "[2, 3, 5, 7]\n"
     ]
    }
   ],
   "source": [
    "#4.Given a positive integer, find out all prime numbers from 1 up to this number.\n",
    "a=int(input(\"enter a positive integer\"))# take a input from user\n",
    "prime_num=[]  #create an empty list\n",
    "for i in range(1,a+1): # itrate through numbers from 1 to the user-input number a\n",
    "    b=0\n",
    "    for j in range(1,i+1): #itrate through numbers from 1 to the current number i\n",
    "        if i%j==0: #check if j is a factor of the current number i\n",
    "            b=b+1             #increment the factor count\n",
    "    if b==2: #check if the numbers has exactly 2 factors(prime number condition)\n",
    "\n",
    "        prime_num.append(i) \n",
    "print(prime_num)"
   ]
  }
 ],
 "metadata": {
  "kernelspec": {
   "display_name": "Python 3",
   "language": "python",
   "name": "python3"
  },
  "language_info": {
   "codemirror_mode": {
    "name": "ipython",
    "version": 3
   },
   "file_extension": ".py",
   "mimetype": "text/x-python",
   "name": "python",
   "nbconvert_exporter": "python",
   "pygments_lexer": "ipython3",
   "version": "3.12.0"
  }
 },
 "nbformat": 4,
 "nbformat_minor": 2
}
