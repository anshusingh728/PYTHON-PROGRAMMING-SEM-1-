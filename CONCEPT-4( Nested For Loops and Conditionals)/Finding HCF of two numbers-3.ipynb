{
 "cells": [
  {
   "cell_type": "code",
   "execution_count": null,
   "metadata": {},
   "outputs": [],
   "source": [
    "#3.Given two numbers, find its Greatest Common Divisor (Divisor).\n",
    "#HCF means:in (12,24)esa common greatest number jo dono ko divide kre \n",
    "#24=1,2,3,4,6,12,24  12=1,2,3,4,6,12 (HCF=6) 6 ek esa \n",
    "#highest common number h jo 12,24 dono ko divide kr rha h\n",
    "a=int(input(\"enter a number\"))#take 1st user input \n",
    "print(\"a =\",a)\n",
    "b=int(input(\"enter a number\"))#take 2nd user input\n",
    "print(\"b =\",b)\n",
    "if a>b:\n",
    "    min=b\n",
    "else:\n",
    "    min=a\n",
    "for i in range(1,min+1):\n",
    "    if a%i==0 and b%i==0:\n",
    "        HCF=i\n",
    "print(\"HCF of numbers is =\",HCF)"
   ]
  }
 ],
 "metadata": {
  "language_info": {
   "name": "python"
  }
 },
 "nbformat": 4,
 "nbformat_minor": 2
}
