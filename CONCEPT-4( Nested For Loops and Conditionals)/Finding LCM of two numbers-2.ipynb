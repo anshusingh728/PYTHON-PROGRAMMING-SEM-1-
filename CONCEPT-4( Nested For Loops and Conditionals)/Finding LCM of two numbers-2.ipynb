{
 "cells": [
  {
   "cell_type": "code",
   "execution_count": 1,
   "metadata": {},
   "outputs": [
    {
     "name": "stdout",
     "output_type": "stream",
     "text": [
      "a = 12\n",
      "b = 15\n",
      "HCF of numbers is = 3\n",
      "LCM of numbers is = 60.0\n"
     ]
    }
   ],
   "source": [
    "#2.Given two numbers, find its Least Common Multiple (LCM).\n",
    "#LCM means:in (12,24) esa least number jo dono(12,24) se divisible ho:LCM=24\n",
    "a=int(input(\"enter a number\"))#take 1st user input\n",
    "print(\"a =\",a)\n",
    "b=int(input(\"enter a number\"))#take 2nd user input\n",
    "print(\"b =\",b)\n",
    "if a>b:\n",
    "    min=b\n",
    "else:\n",
    "    min=a\n",
    "for i in range(1,min+1):\n",
    "    if a%i==0 and b%i==0:\n",
    "        HCF=i\n",
    "        LCM=(a*b)/HCF\n",
    "print(\"HCF of numbers is =\",HCF)\n",
    "print(\"LCM of numbers is =\",LCM)"
   ]
  }
 ],
 "metadata": {
  "kernelspec": {
   "display_name": "Python 3",
   "language": "python",
   "name": "python3"
  },
  "language_info": {
   "codemirror_mode": {
    "name": "ipython",
    "version": 3
   },
   "file_extension": ".py",
   "mimetype": "text/x-python",
   "name": "python",
   "nbconvert_exporter": "python",
   "pygments_lexer": "ipython3",
   "version": "3.12.0"
  }
 },
 "nbformat": 4,
 "nbformat_minor": 2
}
