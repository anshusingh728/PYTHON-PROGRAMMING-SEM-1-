{
 "cells": [
  {
   "cell_type": "code",
   "execution_count": 20,
   "metadata": {},
   "outputs": [
    {
     "name": "stdout",
     "output_type": "stream",
     "text": [
      "list of prime numbers = [2, 3, 5, 7]\n",
      "sum of prime numbers = 17\n"
     ]
    }
   ],
   "source": [
    "#5.Given a positive integers, find out the sum of all prime numbers from 1 up to this number.\n",
    "a=int(input(\"enter a number\"))# take a input from user\n",
    "list_prime=[]  #create an empty list\n",
    "for i in range(1,a+1): # itrate through numbers from 1 to the user-input number a\n",
    "    x=0\n",
    "    for j in range(1,i+1): #itrate through numbers from 1 to the current number i\n",
    "        if i%j==0: #check if j is a factor of the current number i\n",
    "            x=x+1 #increment the factor count\n",
    "    if x==2: #check if the numbers has exactly 2 factors(prime number condition)\n",
    "        list_prime.append(i)\n",
    "print(\"list of prime numbers =\",list_prime)\n",
    "sum_prime=0\n",
    "for k in list_prime: #itrate through the list of prime numbers\n",
    "    sum_prime=sum_prime+k #add each prime number to the sum_prime\n",
    "print(\"sum of prime numbers =\",sum_prime)"
   ]
  }
 ],
 "metadata": {
  "kernelspec": {
   "display_name": "Python 3",
   "language": "python",
   "name": "python3"
  },
  "language_info": {
   "codemirror_mode": {
    "name": "ipython",
    "version": 3
   },
   "file_extension": ".py",
   "mimetype": "text/x-python",
   "name": "python",
   "nbconvert_exporter": "python",
   "pygments_lexer": "ipython3",
   "version": "3.12.0"
  }
 },
 "nbformat": 4,
 "nbformat_minor": 2
}
