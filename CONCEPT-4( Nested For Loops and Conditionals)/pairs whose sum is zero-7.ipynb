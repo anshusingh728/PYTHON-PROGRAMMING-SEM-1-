{
 "cells": [
  {
   "cell_type": "code",
   "execution_count": 11,
   "metadata": {},
   "outputs": [
    {
     "name": "stdout",
     "output_type": "stream",
     "text": [
      "[(2, -2), (3, -3), (4, -4), (9, -9), (6, -6)]\n"
     ]
    }
   ],
   "source": [
    "#7.Given a list of integers, find all pairs of integers in the list whose sum is zero.\n",
    "list_num=[2,-2,3,-3,4,-4,3,9,-9,6,-6,]    #given a list\n",
    "list_new=[]        #create an empty list\n",
    "for i in range(len(list_num)):  #running a for loop that itrate over each element(i is the index of elements)\n",
    "    for j in list_num[i+1::]:    #running nested loop that itrate over element starting from the index (i+1)\n",
    "        if list_num[i]+j==0:    \n",
    "                if (j,list_num[i]) not in list_new and (list_num[i],j) not in list_new:\n",
    "                     list_new.append((list_num[i],j))\n",
    "print(list_new)"
   ]
  }
 ],
 "metadata": {
  "kernelspec": {
   "display_name": "Python 3",
   "language": "python",
   "name": "python3"
  },
  "language_info": {
   "codemirror_mode": {
    "name": "ipython",
    "version": 3
   },
   "file_extension": ".py",
   "mimetype": "text/x-python",
   "name": "python",
   "nbconvert_exporter": "python",
   "pygments_lexer": "ipython3",
   "version": "3.12.0"
  }
 },
 "nbformat": 4,
 "nbformat_minor": 2
}
