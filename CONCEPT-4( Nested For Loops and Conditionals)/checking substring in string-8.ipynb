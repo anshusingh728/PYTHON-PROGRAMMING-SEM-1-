{
 "cells": [
  {
   "cell_type": "code",
   "execution_count": 5,
   "metadata": {},
   "outputs": [
    {
     "name": "stdout",
     "output_type": "stream",
     "text": [
      "str_inp =  my name is anshu kushwaha\n",
      " i am from mahoba district  \n",
      " i had completed my 6th to 12th from jnv mahoba\n",
      " \n",
      " mahoba substring is present\n"
     ]
    }
   ],
   "source": [
    "#8.Given a string input, find out if it contains a particular substring.\n",
    "str_inp=\"\"\" my name is anshu kushwaha\n",
    " i am from mahoba district  \n",
    " i had completed my 6th to 12th from jnv mahoba\n",
    " \"\"\"\n",
    "print(\"str_inp =\",str_inp)\n",
    "if \"mahoba\" in str_inp:\n",
    "    print(\" mahoba substring is present\")\n",
    "else:\n",
    "    print(\" mahoba substring is not present\")"
   ]
  },
  {
   "cell_type": "code",
   "execution_count": 7,
   "metadata": {},
   "outputs": [
    {
     "data": {
      "text/plain": [
       "'Mahoba is in the given string.'"
      ]
     },
     "execution_count": 7,
     "metadata": {},
     "output_type": "execute_result"
    }
   ],
   "source": [
    "def str_inp(str_1, sub_str): #This line defines a function named str_inp \n",
    "                             #that takes two parameters str_1 and sub_str.\n",
    "    k = 0 #This initializes a variable k to 0. \n",
    "        #This variable will be used to keep track of the position in the substring sub_str.\n",
    "    for x in str_1: #This line starts a for loop \n",
    "                    #that iterates over each letter (x) in the input string str_1.\n",
    "        if x == sub_str[k]: #it checks if the current letter x is equal to the letter\n",
    "                   #at the current position k in the substring sub_str.\n",
    "            k += 1 #If the letter match, it increments the variable k.\n",
    "            if k == len(sub_str): #This checks if the entire substring has been matched \n",
    "                #(Means if k has reached the length of the substring).\n",
    "                return f\"{sub_str} is in the given string.\"\n",
    "        else:\n",
    "            k = 0 \n",
    "    return \"Substring is not in the given string.\"\n",
    "\n",
    "str_1 = \"my name is anshu and i am from Mahoba\"\n",
    "sub_str = \"Mahoba\"\n",
    "str_inp(str_1, sub_str)"
   ]
  }
 ],
 "metadata": {
  "kernelspec": {
   "display_name": "Python 3",
   "language": "python",
   "name": "python3"
  },
  "language_info": {
   "codemirror_mode": {
    "name": "ipython",
    "version": 3
   },
   "file_extension": ".py",
   "mimetype": "text/x-python",
   "name": "python",
   "nbconvert_exporter": "python",
   "pygments_lexer": "ipython3",
   "version": "3.12.0"
  }
 },
 "nbformat": 4,
 "nbformat_minor": 2
}
