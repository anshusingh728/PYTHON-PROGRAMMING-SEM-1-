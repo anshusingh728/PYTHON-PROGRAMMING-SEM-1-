{
 "cells": [
  {
   "cell_type": "code",
   "execution_count": 36,
   "metadata": {},
   "outputs": [
    {
     "name": "stdout",
     "output_type": "stream",
     "text": [
      "number 4 present in list_num is 3 times\n",
      "number 5 present in list_num is 1 times\n",
      "number 6 present in list_num is 4 times\n",
      "number 7 present in list_num is 2 times\n"
     ]
    }
   ],
   "source": [
    "#6.Given a list of numbers, find out how many times each number occurs in the list.\n",
    "list_num=[4,4,4,5,6,6,6,6,7,7]  # given a list\n",
    "list_new=[] #create an empty list\n",
    "for i in list_num:  #it will itrate number of list_num\n",
    "    if i not in list_new:   #if i will not be in list_new \n",
    "        list_new.append(i)  #Then append i in list_new\n",
    "for j in list_new:  # it will itrate number one by one from list_new\n",
    "    count=0     #defining a variable to count number of time occurance of number\n",
    "    for k in list_num:  #it will itarte number from list_num\n",
    "        if j==k:    #if this condition will satisfy \n",
    "            count=count+1   #then count will increased by one\n",
    "    print(\"number\",j,\"present in list_num is\",count,\"times\")"
   ]
  }
 ],
 "metadata": {
  "kernelspec": {
   "display_name": "Python 3",
   "language": "python",
   "name": "python3"
  },
  "language_info": {
   "codemirror_mode": {
    "name": "ipython",
    "version": 3
   },
   "file_extension": ".py",
   "mimetype": "text/x-python",
   "name": "python",
   "nbconvert_exporter": "python",
   "pygments_lexer": "ipython3",
   "version": "3.12.0"
  }
 },
 "nbformat": 4,
 "nbformat_minor": 2
}
