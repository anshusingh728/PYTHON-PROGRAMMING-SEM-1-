{
 "cells": [
  {
   "cell_type": "code",
   "execution_count": 1,
   "metadata": {},
   "outputs": [
    {
     "name": "stdout",
     "output_type": "stream",
     "text": [
      "list of equal pairs in list_num = [(3, 3), (5, 5), (6, 6), (8, 8), (-3, -3)]\n",
      "sum of: 3+3 =6\n",
      "sum of: 5+5 =10\n",
      "sum of: 6+6 =12\n",
      "sum of: 8+8 =16\n",
      "sum of: -3+-3 =-6\n"
     ]
    }
   ],
   "source": [
    "#Given a list of integers, find the sum of all pairs of integers in the list that are equal.\n",
    "list_num=[2,3,3,4,5,5,6,6,7,8,8,-3,-3] #initialize a list\n",
    "list_new=[]    #create an empty list\n",
    "for i in range(len(list_num)):  #it will itrate over the indices of the list_num\n",
    "    for j in list_num[i+1::]:   #it will itrate over elements in list_num staring from the index next to the current index\n",
    "                                #of the outer loop (means from(i+1)) \n",
    "        if list_num[i]==j:   #checks if the current pairs of elements are equal\n",
    "                if (j,list_num[i]) not in list_new and (list_num[i],j) not in list_new:#this checks if pairs is not already\n",
    "                     #in the list_new (it will ensure that duplicate are not added to list_new)\n",
    "                     list_new.append((list_num[i],j)) #appending equal pairs in list_new\n",
    "print(\"list of equal pairs in list_num =\",list_new) #\n",
    "for i,j in list_new: #this loop itrate through each pairs in list_new\n",
    "     print(\"sum of: {}+{} ={}\".format(i,j,i+j) ) #for each pairs it print the sum of two integers in the pair"
   ]
  }
 ],
 "metadata": {
  "kernelspec": {
   "display_name": "Python 3",
   "language": "python",
   "name": "python3"
  },
  "language_info": {
   "codemirror_mode": {
    "name": "ipython",
    "version": 3
   },
   "file_extension": ".py",
   "mimetype": "text/x-python",
   "name": "python",
   "nbconvert_exporter": "python",
   "pygments_lexer": "ipython3",
   "version": "3.11.6"
  }
 },
 "nbformat": 4,
 "nbformat_minor": 2
}
