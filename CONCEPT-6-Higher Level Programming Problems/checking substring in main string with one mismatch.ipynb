{
 "cells": [
  {
   "cell_type": "code",
   "execution_count": 1,
   "metadata": {},
   "outputs": [
    {
     "name": "stdout",
     "output_type": "stream",
     "text": [
      "\"dar\" is in the given string with one mismatch at index 7.\n"
     ]
    }
   ],
   "source": [
    "#3.Given a string input, find out if it contains a particular substring (allowing for one mismatch)\n",
    "def func_str_substr(input_string, substring):#\n",
    "    for i in range(len(input_string) - len(substring) + 1):#it iterate over indeces of the main string upto\n",
    "        # the point where remaining characters are at least the length of the substing\n",
    "        mismatch_count = 0 #initializes a variable to count mismatch character\n",
    "        for j in range(len(substring)): #it iterate over each character in substring\n",
    "            if input_string[i+j] != substring[j]: #it check if character in the current index \n",
    "                # main string does not match the corresponding character in substring\n",
    "                mismatch_count += 1 #if mismatch is found it increase by 1\n",
    "                if mismatch_count > 1: #if mismatch exceeds 1 it breaks out the inner loop\n",
    "                    break\n",
    "        if mismatch_count <= 1: #after the inner loop it checks if total mismatch are less or equal to 1\n",
    "            return f\"\\\"{substring}\\\" is in the given string with one mismatch at index {i}.\" #if above condition is true \n",
    "                      #it return name of substring with one mismatch\n",
    "                      #and also with index of substring in main string\n",
    "    return \"Substring is not in the given string.\"\n",
    "# Test the function\n",
    "input_str = \"Hello dear\"\n",
    "substring = \"dar\"\n",
    "print(func_str_substr(input_str, substring))\n"
   ]
  }
 ],
 "metadata": {
  "kernelspec": {
   "display_name": "Python 3",
   "language": "python",
   "name": "python3"
  },
  "language_info": {
   "codemirror_mode": {
    "name": "ipython",
    "version": 3
   },
   "file_extension": ".py",
   "mimetype": "text/x-python",
   "name": "python",
   "nbconvert_exporter": "python",
   "pygments_lexer": "ipython3",
   "version": "3.11.6"
  }
 },
 "nbformat": 4,
 "nbformat_minor": 2
}
