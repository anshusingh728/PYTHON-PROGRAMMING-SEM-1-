{
 "cells": [
  {
   "cell_type": "code",
   "execution_count": 1,
   "metadata": {},
   "outputs": [
    {
     "name": "stdout",
     "output_type": "stream",
     "text": [
      "[2, 3, 5, 6, 7, 8, 9]\n"
     ]
    }
   ],
   "source": [
    "#1.Given a list of numbers, sort it in ascending order.\n",
    "list_num=[5,3,6,7,2,8,9] #initialize a list\n",
    "list_assending=[] # create an empty list\n",
    "for i in range(len(list_num)): #this itrates through the indices of list_num\n",
    "    min=list_num[0] #initialize a variable min with first element of the list_num\n",
    "    for j in list_num: # it itrate through each element j in list_num\n",
    "        if min>j: #checks if the min value is greater than the element j\n",
    "            min=j #it update the min value with value j\n",
    "    list_assending.append(min) #append minimum value in list_assending\n",
    "    list_num.remove(min) #removes the minimum value found in the inner loop from list_num\n",
    "print(list_assending)"
   ]
  }
 ],
 "metadata": {
  "kernelspec": {
   "display_name": "Python 3",
   "language": "python",
   "name": "python3"
  },
  "language_info": {
   "codemirror_mode": {
    "name": "ipython",
    "version": 3
   },
   "file_extension": ".py",
   "mimetype": "text/x-python",
   "name": "python",
   "nbconvert_exporter": "python",
   "pygments_lexer": "ipython3",
   "version": "3.11.6"
  }
 },
 "nbformat": 4,
 "nbformat_minor": 2
}
