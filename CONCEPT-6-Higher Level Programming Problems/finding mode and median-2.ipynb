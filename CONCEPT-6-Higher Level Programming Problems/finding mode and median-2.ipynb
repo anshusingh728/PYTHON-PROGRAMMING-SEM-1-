{
 "cells": [
  {
   "cell_type": "code",
   "execution_count": 43,
   "metadata": {},
   "outputs": [
    {
     "name": "stdout",
     "output_type": "stream",
     "text": [
      "[2, 2, 3, 3, 5, 5, 5, 6, 6, 6, 6]\n",
      "Median is : 5\n",
      "2  in list_num = 2 times\n",
      "3  in list_num = 2 times\n",
      "5  in list_num = 3 times\n",
      "6  in list_num = 4 times\n",
      "dict_new = {2: 2, 3: 2, 5: 3, 6: 4}\n",
      "Mode: [6]\n"
     ]
    }
   ],
   "source": [
    "list_num=[2,2,3,3,5,5,5,6,6,6,6]\n",
    "list_assending=[] ## It first initializes an empty list\n",
    "#SORTING IN ASSENDING ORDER:\n",
    "for i in range(len(list_num)): ## it will iterate over  each index in the range of the length of list_num\n",
    "    min=list_num[0]\n",
    "    for j in list_num: #it finds the minimum value in list_num\n",
    "        if min>j:\n",
    "            min=j\n",
    "    list_assending.append(min) #  appends min it to list_assending,\n",
    "    list_num.remove(min) #removing min number it from list_num.\n",
    "print(list_assending) # Finally, it prints the sorted list_assending.\n",
    "#FINDING MEDIAN:\n",
    "n=len(list_assending) # finding length of sorted list\n",
    "if n%2==0: #if n is even \n",
    "    left_num=list_assending[n//2-1] #If n is even,this line calculates the left side number from the middle \n",
    "    #by accessing the element at index `n//2-1`\n",
    "    right_num=list_assending[n//2] #If n is even,this line calculates the right side number from the middle\n",
    "    #by accending the element at index n//2\n",
    "    Median=(left_num+right_num)/2  #  If `n` is even, this line calculates the median\n",
    "    #by adding `left_num` and `right_num` and then dividing the result by 2\n",
    "else: # if n will be odd\n",
    "    Median=list_assending[n//2]  #it will take middle element of list_assending\n",
    "print(\"Median is :\",Median) \n",
    "#FINDING OCCURANCE\n",
    "num_occur=[] # create an empty list to append \n",
    "dict_new={} # create an empty dictionary to append number as key and number of time occurace as value\n",
    "for i in list_assending: #it will iterate over number in list_assending \n",
    "    if i not in num_occur:  #if i wil not be in list num_occur\n",
    "        num_occur.append(i)  #it will append in num_occur\n",
    "for j in num_occur:  # it will iterate over number in num_occur\n",
    "    count=0     # to store count number of time occurance\n",
    "    for k in list_assending:  #it will iterate over list_assending \n",
    "        if j==k:    #if j will be equal to k \n",
    "            count=count+1 #count will increase by one\n",
    "    print(j,\" in list_num =\",count,\"times\")\n",
    "    dict_new[j]=count\n",
    "print(\"dict_new =\",dict_new)\n",
    "#FINDING MODE:\n",
    "max_count = max(dict_new.values())\n",
    "# Find the keys with the maximum count\n",
    "mode = [keys for keys, values in dict_new.items() if values == max_count] \n",
    "print(\"Mode:\", mode) \n",
    "#if all the numbers occure only one time then there will be no mode for the list"
   ]
  }
 ],
 "metadata": {
  "kernelspec": {
   "display_name": "Python 3",
   "language": "python",
   "name": "python3"
  },
  "language_info": {
   "codemirror_mode": {
    "name": "ipython",
    "version": 3
   },
   "file_extension": ".py",
   "mimetype": "text/x-python",
   "name": "python",
   "nbconvert_exporter": "python",
   "pygments_lexer": "ipython3",
   "version": "3.11.6"
  }
 },
 "nbformat": 4,
 "nbformat_minor": 2
}
