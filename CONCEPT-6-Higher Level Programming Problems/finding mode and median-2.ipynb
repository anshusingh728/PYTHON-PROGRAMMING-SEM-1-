{
 "cells": [
  {
   "cell_type": "code",
   "execution_count": 3,
   "metadata": {},
   "outputs": [
    {
     "name": "stdout",
     "output_type": "stream",
     "text": [
      "numbers of list in assending order = [2, 3, 4, 4, 5, 6, 6, 6]\n",
      "2  in list_num = 1 times\n",
      "3  in list_num = 1 times\n",
      "4  in list_num = 2 times\n",
      "5  in list_num = 1 times\n",
      "6  in list_num = 3 times\n",
      "\n",
      "list of occuring numbers = [1, 1, 2, 1, 3]\n",
      "dict_new = {2: 1, 3: 1, 4: 2, 5: 1, 6: 3}\n",
      "Mode: [6]\n",
      "Median is 4.5\n"
     ]
    }
   ],
   "source": [
    "#Given a list of numbers, find out the median and mode.\n",
    "list_num=[2,3,4,4,5,6,6,6]\n",
    "list_assending=[]\n",
    "num_occur=[]\n",
    "count_num_occurance=[]\n",
    "dict_new={}\n",
    "#STEP-1 CONVERTING LIST IN ASSENDING ORDER\n",
    "for i in range(len(list_num)):\n",
    "    min=list_num[0]\n",
    "    for j in list_num:\n",
    "        if min>j:\n",
    "            min=j\n",
    "    list_assending.append(min)\n",
    "    list_num.remove(min)\n",
    "print(\"numbers of list in assending order =\",list_assending)\n",
    "#STEP-2 FINDING NUMBER OF TIMES OCCURANCE OF NUMBER AND CREATING DICT_NEW OF OCCURING NUMBER AND NUMBER OF TIME OCCURANCE\n",
    "for i in list_assending: \n",
    "    if i not in num_occur:  \n",
    "        num_occur.append(i)  \n",
    "for j in num_occur:  \n",
    "    count=0     \n",
    "    for k in list_assending:  \n",
    "        if j==k:    \n",
    "            count=count+1\n",
    "    print(j,\" in list_num =\",count,\"times\")\n",
    "    count_num_occurance.append(count)\n",
    "    dict_new[j]=count\n",
    "print(\"\\nlist of occuring numbers =\",count_num_occurance)\n",
    "print(\"dict_new =\",dict_new)\n",
    "#STEP-3 FINDING MODE\n",
    "# Find the maximum count\n",
    "max_count = max(dict_new.values())\n",
    "# Find the keys with the maximum count\n",
    "mode = [keys for keys, values in dict_new.items() if values == max_count]\n",
    "print(\"Mode:\", mode)\n",
    "#FINDING MEDIAN\n",
    "n = len(list_assending)\n",
    "if n % 2 == 0:\n",
    "    median = (list_assending[n // 2 - 1] + list_assending[n // 2]) / 2\n",
    "print(\"Median is\",median)\n"
   ]
  }
 ],
 "metadata": {
  "kernelspec": {
   "display_name": "Python 3",
   "language": "python",
   "name": "python3"
  },
  "language_info": {
   "codemirror_mode": {
    "name": "ipython",
    "version": 3
   },
   "file_extension": ".py",
   "mimetype": "text/x-python",
   "name": "python",
   "nbconvert_exporter": "python",
   "pygments_lexer": "ipython3",
   "version": "3.11.6"
  }
 },
 "nbformat": 4,
 "nbformat_minor": 2
}
